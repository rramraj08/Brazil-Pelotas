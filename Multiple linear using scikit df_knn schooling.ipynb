{
 "cells": [
  {
   "cell_type": "code",
   "execution_count": 1,
   "metadata": {},
   "outputs": [],
   "source": [
    "import pandas as pd\n",
    "import numpy as np\n",
    "import arviz as az\n",
    "from sklearn.metrics import r2_score"
   ]
  },
  {
   "cell_type": "code",
   "execution_count": 2,
   "metadata": {},
   "outputs": [],
   "source": [
    "df = pd.read_csv(r'C:\\Users\\rramr\\OneDrive\\Desktop\\Modern Scientist Global\\dataset\\df_knn_for_bayesian.csv')"
   ]
  },
  {
   "cell_type": "code",
   "execution_count": 3,
   "metadata": {},
   "outputs": [
    {
     "data": {
      "text/html": [
       "<div>\n",
       "<style scoped>\n",
       "    .dataframe tbody tr th:only-of-type {\n",
       "        vertical-align: middle;\n",
       "    }\n",
       "\n",
       "    .dataframe tbody tr th {\n",
       "        vertical-align: top;\n",
       "    }\n",
       "\n",
       "    .dataframe thead th {\n",
       "        text-align: right;\n",
       "    }\n",
       "</style>\n",
       "<table border=\"1\" class=\"dataframe\">\n",
       "  <thead>\n",
       "    <tr style=\"text-align: right;\">\n",
       "      <th></th>\n",
       "      <th>Unnamed: 0</th>\n",
       "      <th>age_m_r4</th>\n",
       "      <th>sexr1</th>\n",
       "      <th>Age_gap_r1</th>\n",
       "      <th>maternal_schooling_r1</th>\n",
       "      <th>no_of_household_members_r3</th>\n",
       "      <th>household_assets_index_r3</th>\n",
       "      <th>schooling_y_r5</th>\n",
       "      <th>score_waisiii_iq_zscore_r5</th>\n",
       "      <th>Height_adult</th>\n",
       "      <th>...</th>\n",
       "      <th>Stunting_Yes</th>\n",
       "      <th>Stunting_nan</th>\n",
       "      <th>type_of_employment_r5_Employee</th>\n",
       "      <th>type_of_employment_r5_Employer</th>\n",
       "      <th>type_of_employment_r5_Self-employed / Autonomous</th>\n",
       "      <th>type_of_employment_r5_Study / paid internship</th>\n",
       "      <th>type_of_employment_r5_nan</th>\n",
       "      <th>worked_and_paid_r5.1_No</th>\n",
       "      <th>worked_and_paid_r5.1_Yes</th>\n",
       "      <th>worked_and_paid_r5.1_nan</th>\n",
       "    </tr>\n",
       "  </thead>\n",
       "  <tbody>\n",
       "    <tr>\n",
       "      <th>0</th>\n",
       "      <td>0</td>\n",
       "      <td>47</td>\n",
       "      <td>1.0</td>\n",
       "      <td>7</td>\n",
       "      <td>8.0</td>\n",
       "      <td>4.0</td>\n",
       "      <td>5.76350</td>\n",
       "      <td>13.0</td>\n",
       "      <td>1.510429</td>\n",
       "      <td>180.65</td>\n",
       "      <td>...</td>\n",
       "      <td>0</td>\n",
       "      <td>0</td>\n",
       "      <td>1</td>\n",
       "      <td>0</td>\n",
       "      <td>0</td>\n",
       "      <td>0</td>\n",
       "      <td>0</td>\n",
       "      <td>0</td>\n",
       "      <td>1</td>\n",
       "      <td>0</td>\n",
       "    </tr>\n",
       "    <tr>\n",
       "      <th>1</th>\n",
       "      <td>1</td>\n",
       "      <td>50</td>\n",
       "      <td>1.0</td>\n",
       "      <td>0</td>\n",
       "      <td>5.0</td>\n",
       "      <td>3.0</td>\n",
       "      <td>2.00260</td>\n",
       "      <td>16.0</td>\n",
       "      <td>0.399053</td>\n",
       "      <td>180.35</td>\n",
       "      <td>...</td>\n",
       "      <td>0</td>\n",
       "      <td>0</td>\n",
       "      <td>1</td>\n",
       "      <td>0</td>\n",
       "      <td>0</td>\n",
       "      <td>0</td>\n",
       "      <td>0</td>\n",
       "      <td>0</td>\n",
       "      <td>1</td>\n",
       "      <td>0</td>\n",
       "    </tr>\n",
       "    <tr>\n",
       "      <th>2</th>\n",
       "      <td>2</td>\n",
       "      <td>50</td>\n",
       "      <td>0.0</td>\n",
       "      <td>1</td>\n",
       "      <td>5.0</td>\n",
       "      <td>3.0</td>\n",
       "      <td>3.48310</td>\n",
       "      <td>15.0</td>\n",
       "      <td>0.002132</td>\n",
       "      <td>164.95</td>\n",
       "      <td>...</td>\n",
       "      <td>0</td>\n",
       "      <td>0</td>\n",
       "      <td>1</td>\n",
       "      <td>0</td>\n",
       "      <td>0</td>\n",
       "      <td>0</td>\n",
       "      <td>0</td>\n",
       "      <td>1</td>\n",
       "      <td>0</td>\n",
       "      <td>0</td>\n",
       "    </tr>\n",
       "    <tr>\n",
       "      <th>3</th>\n",
       "      <td>3</td>\n",
       "      <td>49</td>\n",
       "      <td>1.0</td>\n",
       "      <td>5</td>\n",
       "      <td>9.0</td>\n",
       "      <td>8.0</td>\n",
       "      <td>5.08150</td>\n",
       "      <td>4.0</td>\n",
       "      <td>-1.823701</td>\n",
       "      <td>182.30</td>\n",
       "      <td>...</td>\n",
       "      <td>0</td>\n",
       "      <td>0</td>\n",
       "      <td>0</td>\n",
       "      <td>0</td>\n",
       "      <td>0</td>\n",
       "      <td>0</td>\n",
       "      <td>1</td>\n",
       "      <td>1</td>\n",
       "      <td>0</td>\n",
       "      <td>0</td>\n",
       "    </tr>\n",
       "    <tr>\n",
       "      <th>4</th>\n",
       "      <td>4</td>\n",
       "      <td>43</td>\n",
       "      <td>1.0</td>\n",
       "      <td>8</td>\n",
       "      <td>15.0</td>\n",
       "      <td>4.2</td>\n",
       "      <td>4.88618</td>\n",
       "      <td>16.6</td>\n",
       "      <td>1.542183</td>\n",
       "      <td>173.66</td>\n",
       "      <td>...</td>\n",
       "      <td>0</td>\n",
       "      <td>1</td>\n",
       "      <td>0</td>\n",
       "      <td>0</td>\n",
       "      <td>0</td>\n",
       "      <td>0</td>\n",
       "      <td>1</td>\n",
       "      <td>0</td>\n",
       "      <td>0</td>\n",
       "      <td>1</td>\n",
       "    </tr>\n",
       "  </tbody>\n",
       "</table>\n",
       "<p>5 rows × 24 columns</p>\n",
       "</div>"
      ],
      "text/plain": [
       "   Unnamed: 0  age_m_r4  sexr1  Age_gap_r1  maternal_schooling_r1  \\\n",
       "0           0        47    1.0           7                    8.0   \n",
       "1           1        50    1.0           0                    5.0   \n",
       "2           2        50    0.0           1                    5.0   \n",
       "3           3        49    1.0           5                    9.0   \n",
       "4           4        43    1.0           8                   15.0   \n",
       "\n",
       "   no_of_household_members_r3  household_assets_index_r3  schooling_y_r5  \\\n",
       "0                         4.0                    5.76350            13.0   \n",
       "1                         3.0                    2.00260            16.0   \n",
       "2                         3.0                    3.48310            15.0   \n",
       "3                         8.0                    5.08150             4.0   \n",
       "4                         4.2                    4.88618            16.6   \n",
       "\n",
       "   score_waisiii_iq_zscore_r5  Height_adult  ...  Stunting_Yes  Stunting_nan  \\\n",
       "0                    1.510429        180.65  ...             0             0   \n",
       "1                    0.399053        180.35  ...             0             0   \n",
       "2                    0.002132        164.95  ...             0             0   \n",
       "3                   -1.823701        182.30  ...             0             0   \n",
       "4                    1.542183        173.66  ...             0             1   \n",
       "\n",
       "   type_of_employment_r5_Employee  type_of_employment_r5_Employer  \\\n",
       "0                               1                               0   \n",
       "1                               1                               0   \n",
       "2                               1                               0   \n",
       "3                               0                               0   \n",
       "4                               0                               0   \n",
       "\n",
       "   type_of_employment_r5_Self-employed / Autonomous  \\\n",
       "0                                                 0   \n",
       "1                                                 0   \n",
       "2                                                 0   \n",
       "3                                                 0   \n",
       "4                                                 0   \n",
       "\n",
       "   type_of_employment_r5_Study / paid internship  type_of_employment_r5_nan  \\\n",
       "0                                              0                          0   \n",
       "1                                              0                          0   \n",
       "2                                              0                          0   \n",
       "3                                              0                          1   \n",
       "4                                              0                          1   \n",
       "\n",
       "   worked_and_paid_r5.1_No  worked_and_paid_r5.1_Yes  worked_and_paid_r5.1_nan  \n",
       "0                        0                         1                         0  \n",
       "1                        0                         1                         0  \n",
       "2                        1                         0                         0  \n",
       "3                        1                         0                         0  \n",
       "4                        0                         0                         1  \n",
       "\n",
       "[5 rows x 24 columns]"
      ]
     },
     "execution_count": 3,
     "metadata": {},
     "output_type": "execute_result"
    }
   ],
   "source": [
    "df.head()"
   ]
  },
  {
   "cell_type": "code",
   "execution_count": 4,
   "metadata": {},
   "outputs": [],
   "source": [
    "from scipy import stats\n",
    "import scipy.stats as stats"
   ]
  },
  {
   "cell_type": "code",
   "execution_count": 5,
   "metadata": {},
   "outputs": [],
   "source": [
    "from tableone import TableOne"
   ]
  },
  {
   "cell_type": "code",
   "execution_count": 6,
   "metadata": {},
   "outputs": [
    {
     "name": "stdout",
     "output_type": "stream",
     "text": [
      "['Stunting_Yes', 'Stunting_No', 'age_m_r4', 'sexr1', 'Age_gap_r1', 'maternal_schooling_r1', 'no_of_household_members_r3', 'household_assets_index_r3', 'schooling_y_r5', 'score_waisiii_iq_zscore_r5', 'Height_adult']\n"
     ]
    },
    {
     "name": "stderr",
     "output_type": "stream",
     "text": [
      "C:\\Users\\rramr\\Anaconda4\\lib\\site-packages\\ipykernel\\ipkernel.py:287: DeprecationWarning: `should_run_async` will not call `transform_cell` automatically in the future. Please pass the result to `transformed_cell` argument and any exception that happen during thetransform in `preprocessing_exc_tuple` in IPython 7.17 and above.\n",
      "  and should_run_async(code)\n"
     ]
    }
   ],
   "source": [
    "columns = ['Stunting_Yes','Stunting_No', 'age_m_r4', 'sexr1', 'Age_gap_r1', 'maternal_schooling_r1',\n",
    "       'no_of_household_members_r3', 'household_assets_index_r3',\n",
    "       'schooling_y_r5', 'score_waisiii_iq_zscore_r5','Height_adult']\n",
    "\n",
    "categorical= ['Stunting_Yes','Stunting_No','sexr1']\n",
    "\n",
    "\n",
    "\n",
    "\n",
    "print(columns)"
   ]
  },
  {
   "cell_type": "code",
   "execution_count": 7,
   "metadata": {},
   "outputs": [
    {
     "name": "stderr",
     "output_type": "stream",
     "text": [
      "C:\\Users\\rramr\\Anaconda4\\lib\\site-packages\\ipykernel\\ipkernel.py:287: DeprecationWarning: `should_run_async` will not call `transform_cell` automatically in the future. Please pass the result to `transformed_cell` argument and any exception that happen during thetransform in `preprocessing_exc_tuple` in IPython 7.17 and above.\n",
      "  and should_run_async(code)\n"
     ]
    },
    {
     "name": "stdout",
     "output_type": "stream",
     "text": [
      "                                            Missing    Overall\n",
      "-------------------------------------  ---  ---------  -----------\n",
      "n                                                      5914\n",
      "Stunting_Yes, n (%)                    0    0          5395 (91.2)\n",
      "                                       1               519 (8.8)\n",
      "Stunting_No, n (%)                     0    0          1691 (28.6)\n",
      "                                       1               4223 (71.4)\n",
      "age_m_r4, mean (SD)                         0          43.1 (3.4)\n",
      "sexr1, n (%)                           0.0  0          2876 (48.6)\n",
      "                                       0.6             1 (0.0)\n",
      "                                       1.0             3037 (51.4)\n",
      "Age_gap_r1, mean (SD)                       0          3.6 (4.2)\n",
      "maternal_schooling_r1, mean (SD)            0          6.5 (4.2)\n",
      "no_of_household_members_r3, mean (SD)       0          4.6 (1.7)\n",
      "household_assets_index_r3, mean (SD)        0          3.2 (1.2)\n",
      "schooling_y_r5, mean (SD)                   0          10.8 (3.8)\n",
      "score_waisiii_iq_zscore_r5, mean (SD)       0          -0.1 (0.9)\n",
      "Height_adult, mean (SD)                     0          167.2 (7.8)\n"
     ]
    }
   ],
   "source": [
    "mytable = TableOne(df, columns=columns,categorical=categorical)\n",
    "print(mytable.tabulate(tablefmt=\"fancygrid\"))   "
   ]
  },
  {
   "cell_type": "code",
   "execution_count": null,
   "metadata": {},
   "outputs": [],
   "source": []
  },
  {
   "cell_type": "code",
   "execution_count": null,
   "metadata": {},
   "outputs": [],
   "source": []
  },
  {
   "cell_type": "code",
   "execution_count": null,
   "metadata": {},
   "outputs": [],
   "source": []
  },
  {
   "cell_type": "code",
   "execution_count": 8,
   "metadata": {},
   "outputs": [
    {
     "name": "stderr",
     "output_type": "stream",
     "text": [
      "C:\\Users\\rramr\\Anaconda4\\lib\\site-packages\\ipykernel\\ipkernel.py:287: DeprecationWarning: `should_run_async` will not call `transform_cell` automatically in the future. Please pass the result to `transformed_cell` argument and any exception that happen during thetransform in `preprocessing_exc_tuple` in IPython 7.17 and above.\n",
      "  and should_run_async(code)\n"
     ]
    }
   ],
   "source": [
    "df2=df.copy()"
   ]
  },
  {
   "cell_type": "code",
   "execution_count": 9,
   "metadata": {},
   "outputs": [
    {
     "name": "stderr",
     "output_type": "stream",
     "text": [
      "C:\\Users\\rramr\\Anaconda4\\lib\\site-packages\\ipykernel\\ipkernel.py:287: DeprecationWarning: `should_run_async` will not call `transform_cell` automatically in the future. Please pass the result to `transformed_cell` argument and any exception that happen during thetransform in `preprocessing_exc_tuple` in IPython 7.17 and above.\n",
      "  and should_run_async(code)\n"
     ]
    }
   ],
   "source": [
    "Y=df2['schooling_y_r5']"
   ]
  },
  {
   "cell_type": "code",
   "execution_count": 10,
   "metadata": {},
   "outputs": [
    {
     "name": "stderr",
     "output_type": "stream",
     "text": [
      "C:\\Users\\rramr\\Anaconda4\\lib\\site-packages\\ipykernel\\ipkernel.py:287: DeprecationWarning: `should_run_async` will not call `transform_cell` automatically in the future. Please pass the result to `transformed_cell` argument and any exception that happen during thetransform in `preprocessing_exc_tuple` in IPython 7.17 and above.\n",
      "  and should_run_async(code)\n"
     ]
    }
   ],
   "source": [
    "X=df2[['Stunting_Yes','age_m_r4','sexr1','Age_gap_r1','maternal_schooling_r1','no_of_household_members_r3','household_assets_index_r3'\n",
    "]]"
   ]
  },
  {
   "cell_type": "code",
   "execution_count": 11,
   "metadata": {},
   "outputs": [
    {
     "name": "stderr",
     "output_type": "stream",
     "text": [
      "C:\\Users\\rramr\\Anaconda4\\lib\\site-packages\\ipykernel\\ipkernel.py:287: DeprecationWarning: `should_run_async` will not call `transform_cell` automatically in the future. Please pass the result to `transformed_cell` argument and any exception that happen during thetransform in `preprocessing_exc_tuple` in IPython 7.17 and above.\n",
      "  and should_run_async(code)\n"
     ]
    }
   ],
   "source": [
    "from sklearn.model_selection import train_test_split\n",
    "# df is features and labels are the targets \n",
    "# Split by putting 25% in the testing set\n",
    "X_train, X_test,Y_train, Y_test = train_test_split(X,  Y,\n",
    "                                                   test_size = 0.25,\n",
    "                                                    random_state=42)"
   ]
  },
  {
   "cell_type": "code",
   "execution_count": 12,
   "metadata": {},
   "outputs": [
    {
     "name": "stderr",
     "output_type": "stream",
     "text": [
      "C:\\Users\\rramr\\Anaconda4\\lib\\site-packages\\ipykernel\\ipkernel.py:287: DeprecationWarning: `should_run_async` will not call `transform_cell` automatically in the future. Please pass the result to `transformed_cell` argument and any exception that happen during thetransform in `preprocessing_exc_tuple` in IPython 7.17 and above.\n",
      "  and should_run_async(code)\n",
      "C:\\Users\\rramr\\Anaconda4\\lib\\site-packages\\patsy\\constraint.py:13: DeprecationWarning: Using or importing the ABCs from 'collections' instead of from 'collections.abc' is deprecated since Python 3.3, and in 3.9 it will stop working\n",
      "  from collections import Mapping\n"
     ]
    }
   ],
   "source": [
    "from sklearn.linear_model import LinearRegression\n",
    "from sklearn.feature_selection import RFE\n",
    "from sklearn.linear_model import RidgeCV, LassoCV, Ridge, Lasso\n",
    "import statsmodels.api as sm\n",
    "from sklearn.metrics import mean_squared_error, r2_score\n",
    "from sklearn.metrics import explained_variance_score\n",
    "from sklearn import metrics\n",
    "from sklearn.preprocessing import StandardScaler"
   ]
  },
  {
   "cell_type": "code",
   "execution_count": 13,
   "metadata": {},
   "outputs": [
    {
     "name": "stderr",
     "output_type": "stream",
     "text": [
      "C:\\Users\\rramr\\Anaconda4\\lib\\site-packages\\ipykernel\\ipkernel.py:287: DeprecationWarning: `should_run_async` will not call `transform_cell` automatically in the future. Please pass the result to `transformed_cell` argument and any exception that happen during thetransform in `preprocessing_exc_tuple` in IPython 7.17 and above.\n",
      "  and should_run_async(code)\n"
     ]
    },
    {
     "data": {
      "text/plain": [
       "LinearRegression(copy_X=True, fit_intercept=True, n_jobs=None, normalize=False)"
      ]
     },
     "execution_count": 13,
     "metadata": {},
     "output_type": "execute_result"
    }
   ],
   "source": [
    "from sklearn.linear_model import LinearRegression\n",
    "from sklearn.metrics import mean_squared_error, r2_score\n",
    "\n",
    "lin_model = LinearRegression()\n",
    "lin_model.fit(X_train, Y_train)"
   ]
  },
  {
   "cell_type": "code",
   "execution_count": 15,
   "metadata": {},
   "outputs": [
    {
     "name": "stdout",
     "output_type": "stream",
     "text": [
      "The model performance for training set\n",
      "--------------------------------------\n",
      "RMSE is 2.9151413899065486\n",
      "MAE is 2.2440806148467316\n",
      "R2 score is 0.40116114312022155\n",
      "\n",
      "\n",
      "The model performance for testing set\n",
      "--------------------------------------\n",
      "RMSE is 2.9928185315268307\n",
      "MAE is 2.319192255441326\n",
      "R2 score is 0.3985766627898114\n"
     ]
    },
    {
     "name": "stderr",
     "output_type": "stream",
     "text": [
      "C:\\Users\\rramr\\Anaconda4\\lib\\site-packages\\ipykernel\\ipkernel.py:287: DeprecationWarning: `should_run_async` will not call `transform_cell` automatically in the future. Please pass the result to `transformed_cell` argument and any exception that happen during thetransform in `preprocessing_exc_tuple` in IPython 7.17 and above.\n",
      "  and should_run_async(code)\n"
     ]
    }
   ],
   "source": [
    "# model evaluation for training set\n",
    "\n",
    "y_train_predict = lin_model.predict(X_train)\n",
    "mae = np.mean(abs(y_train_predict - Y_train))\n",
    "rmse = (np.sqrt(mean_squared_error(Y_train, y_train_predict)))\n",
    "r2 = r2_score(Y_train, y_train_predict)\n",
    "\n",
    "print(\"The model performance for training set\")\n",
    "print(\"--------------------------------------\")\n",
    "print('RMSE is {}'.format(rmse))\n",
    "print('MAE is {}'.format(mae))\n",
    "print('R2 score is {}'.format(r2))\n",
    "print(\"\\n\")\n",
    "\n",
    "# model evaluation for testing set\n",
    "\n",
    "y_test_predict = lin_model.predict(X_test)\n",
    "# root mean square error of the model\n",
    "rmse = (np.sqrt(mean_squared_error(Y_test, y_test_predict)))\n",
    "\n",
    "#mae\n",
    "mae = np.mean(abs(y_test_predict - Y_test))\n",
    "\n",
    "# r-squared score of the model\n",
    "r2 = r2_score(Y_test, y_test_predict)\n",
    "\n",
    "print(\"The model performance for testing set\")\n",
    "print(\"--------------------------------------\")\n",
    "print('RMSE is {}'.format(rmse))\n",
    "print('MAE is {}'.format(mae))\n",
    "print('R2 score is {}'.format(r2))"
   ]
  },
  {
   "cell_type": "code",
   "execution_count": 12,
   "metadata": {},
   "outputs": [
    {
     "name": "stdout",
     "output_type": "stream",
     "text": [
      "Intercept 6.015939228069367\n",
      "                            Coefficient\n",
      "Stunting_Yes                  -0.717209\n",
      "age_m_r4                       0.037860\n",
      "sexr1                         -0.605678\n",
      "Age_gap_r1                    -0.023992\n",
      "maternal_schooling_r1          0.355740\n",
      "no_of_household_members_r3    -0.317004\n",
      "household_assets_index_r3      0.853223\n"
     ]
    }
   ],
   "source": [
    "coeff_df = pd.DataFrame(lin_model.coef_, X.columns, columns=['Coefficient'])\n",
    "intercept_df=lin_model.intercept_\n",
    "print('Intercept {}'.format(intercept_df))\n",
    "print(coeff_df)\n"
   ]
  },
  {
   "cell_type": "code",
   "execution_count": 92,
   "metadata": {},
   "outputs": [],
   "source": [
    "def model_results(X_train, y_train, X_test, y_test, model):\n",
    "    \"\"\"Print model parameters of RMSE and R-square on training and testing sets.\n",
    "    \"\"\"\n",
    "    \n",
    "    y_train_pred = model.predict(X_train)\n",
    "    y_test_pred = model.predict(X_test)\n",
    "    print(\"----Training Data results (2015 data set)----\")\n",
    "    print(\"RMSE: ${:.1f}\".format(mean_squared_error(y_train, y_train_pred)**0.5))\n",
    "    print(\"R2: {:.2f}\\n\".format(r2_score(y_train, y_train_pred)))\n",
    "    \n",
    "    print(\"----Test Data results (2016 data set)----\")\n",
    "    print(\"RMSE: ${:.1f}\".format(mean_squared_error(y_test, y_test_pred)**0.5))\n",
    "    print(\"R2: {:.2f}\\n\".format(r2_score(y_test, y_test_pred)))"
   ]
  },
  {
   "cell_type": "code",
   "execution_count": 93,
   "metadata": {},
   "outputs": [
    {
     "name": "stdout",
     "output_type": "stream",
     "text": [
      "----Training Data results (2015 data set)----\n",
      "RMSE: $0.7\n",
      "R2: 0.37\n",
      "\n",
      "----Test Data results (2016 data set)----\n",
      "RMSE: $0.7\n",
      "R2: 0.35\n",
      "\n"
     ]
    }
   ],
   "source": [
    "model_results(X_train, Y_train, X_test, Y_test, lin_model)"
   ]
  },
  {
   "cell_type": "code",
   "execution_count": 94,
   "metadata": {},
   "outputs": [
    {
     "name": "stdout",
     "output_type": "stream",
     "text": [
      "----Training Data results (2015 data set)----\n",
      "RMSE: $0.8\n",
      "R2: 0.22\n",
      "\n",
      "----Test Data results (2016 data set)----\n",
      "RMSE: $0.8\n",
      "R2: 0.22\n",
      "\n"
     ]
    }
   ],
   "source": [
    "# Lasso Regression to regularize\n",
    "from sklearn.linear_model import Lasso\n",
    "\n",
    "las = Lasso().fit(X_train,Y_train)\n",
    "model_results(X_train, Y_train, X_test, Y_test, las)"
   ]
  },
  {
   "cell_type": "code",
   "execution_count": 95,
   "metadata": {},
   "outputs": [
    {
     "name": "stdout",
     "output_type": "stream",
     "text": [
      "GridSearchCV execution time: 0.5319719314575195\n",
      "Lasso best params: {'alpha': 0.0001}\n",
      "\n",
      "----Training Data results (2015 data set)----\n",
      "RMSE: $0.7\n",
      "R2: 0.37\n",
      "\n",
      "----Test Data results (2016 data set)----\n",
      "RMSE: $0.7\n",
      "R2: 0.35\n",
      "\n"
     ]
    }
   ],
   "source": [
    "import time\n",
    "\n",
    "alphas = np.logspace(-4, -0.5, 30)\n",
    "n_folds = 5\n",
    "\n",
    "lasso_params = {'alpha': alphas}\n",
    "\n",
    "# GridSearch CV for hyperparameter tuning\n",
    "from sklearn.model_selection import GridSearchCV\n",
    "\n",
    "start = time.time()\n",
    "las_tuned = GridSearchCV(Lasso(max_iter = 10000, random_state = 0), lasso_params, cv = n_folds)\n",
    "las_tuned.fit(X_train, Y_train)\n",
    "end = time.time()\n",
    "print('GridSearchCV execution time: {}'.format(end - start))\n",
    "\n",
    "print('Lasso best params: {}\\n'.format(las_tuned.best_params_))\n",
    "model_results(X_train, Y_train, X_test, Y_test, las_tuned)"
   ]
  },
  {
   "cell_type": "code",
   "execution_count": null,
   "metadata": {},
   "outputs": [],
   "source": []
  }
 ],
 "metadata": {
  "kernelspec": {
   "display_name": "Python 3",
   "language": "python",
   "name": "python3"
  },
  "language_info": {
   "codemirror_mode": {
    "name": "ipython",
    "version": 3
   },
   "file_extension": ".py",
   "mimetype": "text/x-python",
   "name": "python",
   "nbconvert_exporter": "python",
   "pygments_lexer": "ipython3",
   "version": "3.8.5"
  }
 },
 "nbformat": 4,
 "nbformat_minor": 4
}
